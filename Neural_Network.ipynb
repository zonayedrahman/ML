{
 "cells": [
  {
   "cell_type": "markdown",
   "metadata": {},
   "source": [
    "## Neural Network\n",
    "\n",
    "using code fro"
   ]
  },
  {
   "cell_type": "code",
   "execution_count": 3,
   "metadata": {
    "ExecuteTime": {
     "end_time": "2023-04-20T10:58:48.887392Z",
     "start_time": "2023-04-20T10:58:48.765364Z"
    },
    "_cell_guid": "b1076dfc-b9ad-4769-8c92-a6c4dae69d19",
    "_uuid": "8f2839f25d086af736a60e9eeb907d3b93b6e0e5"
   },
   "outputs": [],
   "source": [
    "from mpl_toolkits.mplot3d import Axes3D\n",
    "from sklearn.preprocessing import StandardScaler\n",
    "import matplotlib.pyplot as plt # plotting\n",
    "import numpy as np # linear algebra\n",
    "import os # accessing directory structure\n",
    "import pandas as pd # data processing, CSV file I/O (e.g. pd.read_csv)"
   ]
  },
  {
   "cell_type": "markdown",
   "metadata": {},
   "source": [
    "There are 4 csv files in the current version of the dataset:"
   ]
  },
  {
   "cell_type": "code",
   "execution_count": 4,
   "metadata": {
    "ExecuteTime": {
     "end_time": "2023-04-20T10:58:48.960409Z",
     "start_time": "2023-04-20T10:58:48.779367Z"
    },
    "_cell_guid": "79c7e3d0-c299-4dcb-8224-4455121ee9b0",
    "_uuid": "d629ff2d2480ee46fbb7e2d37f6b5fab8052498a"
   },
   "outputs": [
    {
     "name": "stdout",
     "output_type": "stream",
     "text": [
      "./Dataset\\user_a.csv\n",
      "./Dataset\\user_b.csv\n",
      "./Dataset\\user_c.csv\n",
      "./Dataset\\user_d.csv\n"
     ]
    }
   ],
   "source": [
    "for dirname, _, filenames in os.walk('./Dataset'):\n",
    "    for filename in filenames:\n",
    "        print(os.path.join(dirname, filename))"
   ]
  },
  {
   "cell_type": "markdown",
   "metadata": {},
   "source": [
    "### User A"
   ]
  },
  {
   "cell_type": "code",
   "execution_count": 5,
   "metadata": {
    "ExecuteTime": {
     "end_time": "2023-04-20T10:58:48.964410Z",
     "start_time": "2023-04-20T10:58:48.819377Z"
    }
   },
   "outputs": [
    {
     "name": "stdout",
     "output_type": "stream",
     "text": [
      "There are 2880 rows and 113 columns\n"
     ]
    }
   ],
   "source": [
    "df1 = pd.read_csv('./Dataset/user_a.csv', delimiter=',')\n",
    "df1.dataframeName = 'dataset.csv'\n",
    "nRow, nCol = df1.shape\n",
    "print(f'There are {nRow} rows and {nCol} columns')"
   ]
  },
  {
   "cell_type": "code",
   "execution_count": 6,
   "metadata": {
    "ExecuteTime": {
     "end_time": "2023-04-20T10:58:48.964410Z",
     "start_time": "2023-04-20T10:58:48.866387Z"
    },
    "scrolled": true
   },
   "outputs": [
    {
     "data": {
      "text/html": [
       "<div>\n",
       "<style scoped>\n",
       "    .dataframe tbody tr th:only-of-type {\n",
       "        vertical-align: middle;\n",
       "    }\n",
       "\n",
       "    .dataframe tbody tr th {\n",
       "        vertical-align: top;\n",
       "    }\n",
       "\n",
       "    .dataframe thead th {\n",
       "        text-align: right;\n",
       "    }\n",
       "</style>\n",
       "<table border=\"1\" class=\"dataframe\">\n",
       "  <thead>\n",
       "    <tr style=\"text-align: right;\">\n",
       "      <th></th>\n",
       "      <th>Class</th>\n",
       "      <th>AF3 delta std</th>\n",
       "      <th>AF3 delta m</th>\n",
       "      <th>AF3 theta std</th>\n",
       "      <th>AF3 theta m</th>\n",
       "      <th>AF3 alpha std</th>\n",
       "      <th>AF3 alpha m</th>\n",
       "      <th>AF3 beta std</th>\n",
       "      <th>AF3 beta m</th>\n",
       "      <th>F7 delta std</th>\n",
       "      <th>...</th>\n",
       "      <th>F8 beta std</th>\n",
       "      <th>F8 beta m</th>\n",
       "      <th>AF4 delta std</th>\n",
       "      <th>AF4 delta m</th>\n",
       "      <th>AF4 theta std</th>\n",
       "      <th>AF4 theta m</th>\n",
       "      <th>AF4 alpha std</th>\n",
       "      <th>AF4 alpha m</th>\n",
       "      <th>AF4 beta std</th>\n",
       "      <th>AF4 beta m</th>\n",
       "    </tr>\n",
       "  </thead>\n",
       "  <tbody>\n",
       "    <tr>\n",
       "      <th>0</th>\n",
       "      <td>1.0</td>\n",
       "      <td>3569.164550</td>\n",
       "      <td>2063.892754</td>\n",
       "      <td>1.673726</td>\n",
       "      <td>4.444736</td>\n",
       "      <td>0.526209</td>\n",
       "      <td>3.002088</td>\n",
       "      <td>1.425022</td>\n",
       "      <td>3.302739</td>\n",
       "      <td>3563.803888</td>\n",
       "      <td>...</td>\n",
       "      <td>45.468326</td>\n",
       "      <td>72.508750</td>\n",
       "      <td>3701.186330</td>\n",
       "      <td>2182.676835</td>\n",
       "      <td>18.192418</td>\n",
       "      <td>41.349662</td>\n",
       "      <td>16.004756</td>\n",
       "      <td>42.046467</td>\n",
       "      <td>46.280843</td>\n",
       "      <td>73.565719</td>\n",
       "    </tr>\n",
       "    <tr>\n",
       "      <th>1</th>\n",
       "      <td>1.0</td>\n",
       "      <td>3568.423670</td>\n",
       "      <td>2063.099248</td>\n",
       "      <td>1.897790</td>\n",
       "      <td>3.728823</td>\n",
       "      <td>1.304186</td>\n",
       "      <td>1.854353</td>\n",
       "      <td>1.366575</td>\n",
       "      <td>2.546458</td>\n",
       "      <td>3563.560922</td>\n",
       "      <td>...</td>\n",
       "      <td>36.551948</td>\n",
       "      <td>66.931186</td>\n",
       "      <td>3725.210509</td>\n",
       "      <td>2180.197439</td>\n",
       "      <td>8.820788</td>\n",
       "      <td>38.012788</td>\n",
       "      <td>19.601233</td>\n",
       "      <td>29.431054</td>\n",
       "      <td>38.559351</td>\n",
       "      <td>67.470041</td>\n",
       "    </tr>\n",
       "    <tr>\n",
       "      <th>2</th>\n",
       "      <td>1.0</td>\n",
       "      <td>3568.157929</td>\n",
       "      <td>2062.445859</td>\n",
       "      <td>2.798014</td>\n",
       "      <td>2.574504</td>\n",
       "      <td>1.120537</td>\n",
       "      <td>1.958819</td>\n",
       "      <td>0.982433</td>\n",
       "      <td>2.258622</td>\n",
       "      <td>3563.279981</td>\n",
       "      <td>...</td>\n",
       "      <td>40.754308</td>\n",
       "      <td>66.816547</td>\n",
       "      <td>3724.417296</td>\n",
       "      <td>2176.823208</td>\n",
       "      <td>18.159202</td>\n",
       "      <td>23.612639</td>\n",
       "      <td>14.378291</td>\n",
       "      <td>19.555084</td>\n",
       "      <td>43.210004</td>\n",
       "      <td>67.781924</td>\n",
       "    </tr>\n",
       "    <tr>\n",
       "      <th>3</th>\n",
       "      <td>1.0</td>\n",
       "      <td>3567.710021</td>\n",
       "      <td>2062.112673</td>\n",
       "      <td>2.181775</td>\n",
       "      <td>3.610507</td>\n",
       "      <td>0.629608</td>\n",
       "      <td>2.155876</td>\n",
       "      <td>0.856275</td>\n",
       "      <td>2.233711</td>\n",
       "      <td>3562.787801</td>\n",
       "      <td>...</td>\n",
       "      <td>38.074628</td>\n",
       "      <td>63.915386</td>\n",
       "      <td>3725.822160</td>\n",
       "      <td>2177.089059</td>\n",
       "      <td>19.737616</td>\n",
       "      <td>29.484396</td>\n",
       "      <td>15.793034</td>\n",
       "      <td>25.713513</td>\n",
       "      <td>39.250246</td>\n",
       "      <td>65.031031</td>\n",
       "    </tr>\n",
       "    <tr>\n",
       "      <th>4</th>\n",
       "      <td>1.0</td>\n",
       "      <td>3565.546124</td>\n",
       "      <td>2063.128867</td>\n",
       "      <td>1.685161</td>\n",
       "      <td>3.384311</td>\n",
       "      <td>0.677526</td>\n",
       "      <td>1.795798</td>\n",
       "      <td>0.927924</td>\n",
       "      <td>1.909810</td>\n",
       "      <td>3562.655091</td>\n",
       "      <td>...</td>\n",
       "      <td>35.357384</td>\n",
       "      <td>64.534645</td>\n",
       "      <td>3723.053978</td>\n",
       "      <td>2167.798335</td>\n",
       "      <td>8.429414</td>\n",
       "      <td>26.374975</td>\n",
       "      <td>14.920736</td>\n",
       "      <td>35.675266</td>\n",
       "      <td>33.901687</td>\n",
       "      <td>66.956313</td>\n",
       "    </tr>\n",
       "  </tbody>\n",
       "</table>\n",
       "<p>5 rows × 113 columns</p>\n",
       "</div>"
      ],
      "text/plain": [
       "   Class  AF3 delta std  AF3 delta m  AF3 theta std  AF3 theta m  \\\n",
       "0    1.0    3569.164550  2063.892754       1.673726     4.444736   \n",
       "1    1.0    3568.423670  2063.099248       1.897790     3.728823   \n",
       "2    1.0    3568.157929  2062.445859       2.798014     2.574504   \n",
       "3    1.0    3567.710021  2062.112673       2.181775     3.610507   \n",
       "4    1.0    3565.546124  2063.128867       1.685161     3.384311   \n",
       "\n",
       "   AF3 alpha std  AF3 alpha m  AF3 beta std  AF3 beta m  F7 delta std  ...  \\\n",
       "0       0.526209     3.002088      1.425022    3.302739   3563.803888  ...   \n",
       "1       1.304186     1.854353      1.366575    2.546458   3563.560922  ...   \n",
       "2       1.120537     1.958819      0.982433    2.258622   3563.279981  ...   \n",
       "3       0.629608     2.155876      0.856275    2.233711   3562.787801  ...   \n",
       "4       0.677526     1.795798      0.927924    1.909810   3562.655091  ...   \n",
       "\n",
       "   F8 beta std  F8 beta m  AF4 delta std  AF4 delta m  AF4 theta std  \\\n",
       "0    45.468326  72.508750    3701.186330  2182.676835      18.192418   \n",
       "1    36.551948  66.931186    3725.210509  2180.197439       8.820788   \n",
       "2    40.754308  66.816547    3724.417296  2176.823208      18.159202   \n",
       "3    38.074628  63.915386    3725.822160  2177.089059      19.737616   \n",
       "4    35.357384  64.534645    3723.053978  2167.798335       8.429414   \n",
       "\n",
       "   AF4 theta m  AF4 alpha std  AF4 alpha m  AF4 beta std  AF4 beta m  \n",
       "0    41.349662      16.004756    42.046467     46.280843   73.565719  \n",
       "1    38.012788      19.601233    29.431054     38.559351   67.470041  \n",
       "2    23.612639      14.378291    19.555084     43.210004   67.781924  \n",
       "3    29.484396      15.793034    25.713513     39.250246   65.031031  \n",
       "4    26.374975      14.920736    35.675266     33.901687   66.956313  \n",
       "\n",
       "[5 rows x 113 columns]"
      ]
     },
     "execution_count": 6,
     "metadata": {},
     "output_type": "execute_result"
    }
   ],
   "source": [
    "df1.head(5)"
   ]
  },
  {
   "cell_type": "markdown",
   "metadata": {},
   "source": [
    "### User B"
   ]
  },
  {
   "cell_type": "code",
   "execution_count": 7,
   "metadata": {
    "ExecuteTime": {
     "end_time": "2023-04-20T11:18:38.311498Z",
     "start_time": "2023-04-20T11:18:38.264486Z"
    }
   },
   "outputs": [
    {
     "name": "stdout",
     "output_type": "stream",
     "text": [
      "There are 2880 rows and 113 columns\n"
     ]
    }
   ],
   "source": [
    "df2 = pd.read_csv('./Dataset/user_b.csv', delimiter=',')\n",
    "df2.dataframeName = 'dataset.csv'\n",
    "nRow, nCol = df2.shape\n",
    "print(f'There are {nRow} rows and {nCol} columns')"
   ]
  },
  {
   "cell_type": "code",
   "execution_count": 8,
   "metadata": {
    "ExecuteTime": {
     "end_time": "2023-04-20T11:18:41.750681Z",
     "start_time": "2023-04-20T11:18:41.726675Z"
    }
   },
   "outputs": [
    {
     "data": {
      "text/html": [
       "<div>\n",
       "<style scoped>\n",
       "    .dataframe tbody tr th:only-of-type {\n",
       "        vertical-align: middle;\n",
       "    }\n",
       "\n",
       "    .dataframe tbody tr th {\n",
       "        vertical-align: top;\n",
       "    }\n",
       "\n",
       "    .dataframe thead th {\n",
       "        text-align: right;\n",
       "    }\n",
       "</style>\n",
       "<table border=\"1\" class=\"dataframe\">\n",
       "  <thead>\n",
       "    <tr style=\"text-align: right;\">\n",
       "      <th></th>\n",
       "      <th>Class</th>\n",
       "      <th>AF3 delta std</th>\n",
       "      <th>AF3 delta m</th>\n",
       "      <th>AF3 theta std</th>\n",
       "      <th>AF3 theta m</th>\n",
       "      <th>AF3 alpha std</th>\n",
       "      <th>AF3 alpha m</th>\n",
       "      <th>AF3 beta std</th>\n",
       "      <th>AF3 beta m</th>\n",
       "      <th>F7 delta std</th>\n",
       "      <th>...</th>\n",
       "      <th>F8 beta std</th>\n",
       "      <th>F8 beta m</th>\n",
       "      <th>AF4 delta std</th>\n",
       "      <th>AF4 delta m</th>\n",
       "      <th>AF4 theta std</th>\n",
       "      <th>AF4 theta m</th>\n",
       "      <th>AF4 alpha std</th>\n",
       "      <th>AF4 alpha m</th>\n",
       "      <th>AF4 beta std</th>\n",
       "      <th>AF4 beta m</th>\n",
       "    </tr>\n",
       "  </thead>\n",
       "  <tbody>\n",
       "    <tr>\n",
       "      <th>0</th>\n",
       "      <td>2.0</td>\n",
       "      <td>3577.872723</td>\n",
       "      <td>2067.408557</td>\n",
       "      <td>1.025738</td>\n",
       "      <td>1.744496</td>\n",
       "      <td>0.883469</td>\n",
       "      <td>1.282893</td>\n",
       "      <td>3.039058</td>\n",
       "      <td>2.730998</td>\n",
       "      <td>3568.553050</td>\n",
       "      <td>...</td>\n",
       "      <td>1.489550</td>\n",
       "      <td>2.038554</td>\n",
       "      <td>3574.021851</td>\n",
       "      <td>2064.935214</td>\n",
       "      <td>1.025629</td>\n",
       "      <td>2.865736</td>\n",
       "      <td>0.427347</td>\n",
       "      <td>1.619304</td>\n",
       "      <td>2.067162</td>\n",
       "      <td>2.244023</td>\n",
       "    </tr>\n",
       "    <tr>\n",
       "      <th>1</th>\n",
       "      <td>2.0</td>\n",
       "      <td>3577.830179</td>\n",
       "      <td>2066.857321</td>\n",
       "      <td>0.573598</td>\n",
       "      <td>1.711991</td>\n",
       "      <td>1.012575</td>\n",
       "      <td>1.900513</td>\n",
       "      <td>2.746218</td>\n",
       "      <td>3.066821</td>\n",
       "      <td>3569.060181</td>\n",
       "      <td>...</td>\n",
       "      <td>1.707576</td>\n",
       "      <td>2.184310</td>\n",
       "      <td>3574.324753</td>\n",
       "      <td>2065.035528</td>\n",
       "      <td>0.677875</td>\n",
       "      <td>2.216925</td>\n",
       "      <td>0.617394</td>\n",
       "      <td>1.926881</td>\n",
       "      <td>1.933766</td>\n",
       "      <td>2.339523</td>\n",
       "    </tr>\n",
       "    <tr>\n",
       "      <th>2</th>\n",
       "      <td>2.0</td>\n",
       "      <td>3576.706494</td>\n",
       "      <td>2066.736837</td>\n",
       "      <td>0.525896</td>\n",
       "      <td>1.584096</td>\n",
       "      <td>0.201467</td>\n",
       "      <td>1.038686</td>\n",
       "      <td>2.685631</td>\n",
       "      <td>2.977552</td>\n",
       "      <td>3569.214969</td>\n",
       "      <td>...</td>\n",
       "      <td>1.553983</td>\n",
       "      <td>2.112580</td>\n",
       "      <td>3574.523186</td>\n",
       "      <td>2064.691860</td>\n",
       "      <td>0.605963</td>\n",
       "      <td>2.000947</td>\n",
       "      <td>0.354295</td>\n",
       "      <td>1.633133</td>\n",
       "      <td>2.017921</td>\n",
       "      <td>2.507417</td>\n",
       "    </tr>\n",
       "    <tr>\n",
       "      <th>3</th>\n",
       "      <td>2.0</td>\n",
       "      <td>3577.453273</td>\n",
       "      <td>2066.839712</td>\n",
       "      <td>0.549982</td>\n",
       "      <td>1.322669</td>\n",
       "      <td>0.373559</td>\n",
       "      <td>1.043046</td>\n",
       "      <td>2.547650</td>\n",
       "      <td>2.906844</td>\n",
       "      <td>3568.109499</td>\n",
       "      <td>...</td>\n",
       "      <td>1.777661</td>\n",
       "      <td>2.219161</td>\n",
       "      <td>3574.218300</td>\n",
       "      <td>2064.862052</td>\n",
       "      <td>0.712377</td>\n",
       "      <td>1.407308</td>\n",
       "      <td>0.731966</td>\n",
       "      <td>1.088495</td>\n",
       "      <td>2.112044</td>\n",
       "      <td>2.416092</td>\n",
       "    </tr>\n",
       "    <tr>\n",
       "      <th>4</th>\n",
       "      <td>2.0</td>\n",
       "      <td>3577.145874</td>\n",
       "      <td>2066.495108</td>\n",
       "      <td>0.253211</td>\n",
       "      <td>1.169839</td>\n",
       "      <td>0.256740</td>\n",
       "      <td>1.169276</td>\n",
       "      <td>2.680609</td>\n",
       "      <td>2.864313</td>\n",
       "      <td>3568.736123</td>\n",
       "      <td>...</td>\n",
       "      <td>2.108666</td>\n",
       "      <td>2.162283</td>\n",
       "      <td>3574.278866</td>\n",
       "      <td>2065.125094</td>\n",
       "      <td>0.166225</td>\n",
       "      <td>1.150858</td>\n",
       "      <td>0.540831</td>\n",
       "      <td>1.736812</td>\n",
       "      <td>1.869272</td>\n",
       "      <td>2.461744</td>\n",
       "    </tr>\n",
       "  </tbody>\n",
       "</table>\n",
       "<p>5 rows × 113 columns</p>\n",
       "</div>"
      ],
      "text/plain": [
       "   Class  AF3 delta std  AF3 delta m  AF3 theta std  AF3 theta m  \\\n",
       "0    2.0    3577.872723  2067.408557       1.025738     1.744496   \n",
       "1    2.0    3577.830179  2066.857321       0.573598     1.711991   \n",
       "2    2.0    3576.706494  2066.736837       0.525896     1.584096   \n",
       "3    2.0    3577.453273  2066.839712       0.549982     1.322669   \n",
       "4    2.0    3577.145874  2066.495108       0.253211     1.169839   \n",
       "\n",
       "   AF3 alpha std  AF3 alpha m  AF3 beta std  AF3 beta m  F7 delta std  ...  \\\n",
       "0       0.883469     1.282893      3.039058    2.730998   3568.553050  ...   \n",
       "1       1.012575     1.900513      2.746218    3.066821   3569.060181  ...   \n",
       "2       0.201467     1.038686      2.685631    2.977552   3569.214969  ...   \n",
       "3       0.373559     1.043046      2.547650    2.906844   3568.109499  ...   \n",
       "4       0.256740     1.169276      2.680609    2.864313   3568.736123  ...   \n",
       "\n",
       "   F8 beta std  F8 beta m  AF4 delta std  AF4 delta m  AF4 theta std  \\\n",
       "0     1.489550   2.038554    3574.021851  2064.935214       1.025629   \n",
       "1     1.707576   2.184310    3574.324753  2065.035528       0.677875   \n",
       "2     1.553983   2.112580    3574.523186  2064.691860       0.605963   \n",
       "3     1.777661   2.219161    3574.218300  2064.862052       0.712377   \n",
       "4     2.108666   2.162283    3574.278866  2065.125094       0.166225   \n",
       "\n",
       "   AF4 theta m  AF4 alpha std  AF4 alpha m  AF4 beta std  AF4 beta m  \n",
       "0     2.865736       0.427347     1.619304      2.067162    2.244023  \n",
       "1     2.216925       0.617394     1.926881      1.933766    2.339523  \n",
       "2     2.000947       0.354295     1.633133      2.017921    2.507417  \n",
       "3     1.407308       0.731966     1.088495      2.112044    2.416092  \n",
       "4     1.150858       0.540831     1.736812      1.869272    2.461744  \n",
       "\n",
       "[5 rows x 113 columns]"
      ]
     },
     "execution_count": 8,
     "metadata": {},
     "output_type": "execute_result"
    }
   ],
   "source": [
    "df2.head(5)"
   ]
  },
  {
   "cell_type": "markdown",
   "metadata": {},
   "source": [
    "### User C"
   ]
  },
  {
   "cell_type": "code",
   "execution_count": 9,
   "metadata": {
    "ExecuteTime": {
     "end_time": "2023-04-20T10:58:59.000214Z",
     "start_time": "2023-04-20T10:58:58.103032Z"
    }
   },
   "outputs": [
    {
     "name": "stdout",
     "output_type": "stream",
     "text": [
      "There are 2880 rows and 113 columns\n"
     ]
    }
   ],
   "source": [
    "df3 = pd.read_csv('./Dataset/user_c.csv', delimiter=',')\n",
    "df3.dataframeName = 'dataset.csv'\n",
    "nRow, nCol = df3.shape\n",
    "print(f'There are {nRow} rows and {nCol} columns')"
   ]
  },
  {
   "cell_type": "code",
   "execution_count": 10,
   "metadata": {
    "ExecuteTime": {
     "end_time": "2023-04-20T10:58:59.000214Z",
     "start_time": "2023-04-20T10:58:58.150034Z"
    }
   },
   "outputs": [
    {
     "data": {
      "text/html": [
       "<div>\n",
       "<style scoped>\n",
       "    .dataframe tbody tr th:only-of-type {\n",
       "        vertical-align: middle;\n",
       "    }\n",
       "\n",
       "    .dataframe tbody tr th {\n",
       "        vertical-align: top;\n",
       "    }\n",
       "\n",
       "    .dataframe thead th {\n",
       "        text-align: right;\n",
       "    }\n",
       "</style>\n",
       "<table border=\"1\" class=\"dataframe\">\n",
       "  <thead>\n",
       "    <tr style=\"text-align: right;\">\n",
       "      <th></th>\n",
       "      <th>Class</th>\n",
       "      <th>AF3 delta std</th>\n",
       "      <th>AF3 delta m</th>\n",
       "      <th>AF3 theta std</th>\n",
       "      <th>AF3 theta m</th>\n",
       "      <th>AF3 alpha std</th>\n",
       "      <th>AF3 alpha m</th>\n",
       "      <th>AF3 beta std</th>\n",
       "      <th>AF3 beta m</th>\n",
       "      <th>F7 delta std</th>\n",
       "      <th>...</th>\n",
       "      <th>F8 beta std</th>\n",
       "      <th>F8 beta m</th>\n",
       "      <th>AF4 delta std</th>\n",
       "      <th>AF4 delta m</th>\n",
       "      <th>AF4 theta std</th>\n",
       "      <th>AF4 theta m</th>\n",
       "      <th>AF4 alpha std</th>\n",
       "      <th>AF4 alpha m</th>\n",
       "      <th>AF4 beta std</th>\n",
       "      <th>AF4 beta m</th>\n",
       "    </tr>\n",
       "  </thead>\n",
       "  <tbody>\n",
       "    <tr>\n",
       "      <th>0</th>\n",
       "      <td>1.0</td>\n",
       "      <td>3573.336166</td>\n",
       "      <td>2067.827798</td>\n",
       "      <td>1.334973</td>\n",
       "      <td>2.294574</td>\n",
       "      <td>0.742210</td>\n",
       "      <td>2.052755</td>\n",
       "      <td>3.604952</td>\n",
       "      <td>4.854279</td>\n",
       "      <td>3575.508401</td>\n",
       "      <td>...</td>\n",
       "      <td>3.625333</td>\n",
       "      <td>8.860455</td>\n",
       "      <td>3522.728728</td>\n",
       "      <td>2045.497490</td>\n",
       "      <td>0.750616</td>\n",
       "      <td>2.170167</td>\n",
       "      <td>1.372258</td>\n",
       "      <td>2.098884</td>\n",
       "      <td>2.418585</td>\n",
       "      <td>3.885361</td>\n",
       "    </tr>\n",
       "    <tr>\n",
       "      <th>1</th>\n",
       "      <td>1.0</td>\n",
       "      <td>3569.424197</td>\n",
       "      <td>2063.871329</td>\n",
       "      <td>1.639684</td>\n",
       "      <td>2.573080</td>\n",
       "      <td>1.097168</td>\n",
       "      <td>2.678287</td>\n",
       "      <td>2.313650</td>\n",
       "      <td>4.727548</td>\n",
       "      <td>3573.524571</td>\n",
       "      <td>...</td>\n",
       "      <td>3.918033</td>\n",
       "      <td>7.473774</td>\n",
       "      <td>3526.382257</td>\n",
       "      <td>2047.897934</td>\n",
       "      <td>0.799930</td>\n",
       "      <td>2.408514</td>\n",
       "      <td>1.110604</td>\n",
       "      <td>2.154791</td>\n",
       "      <td>2.048773</td>\n",
       "      <td>4.238736</td>\n",
       "    </tr>\n",
       "    <tr>\n",
       "      <th>2</th>\n",
       "      <td>1.0</td>\n",
       "      <td>3570.767652</td>\n",
       "      <td>2064.654687</td>\n",
       "      <td>0.706498</td>\n",
       "      <td>2.613442</td>\n",
       "      <td>1.086770</td>\n",
       "      <td>2.222977</td>\n",
       "      <td>2.409857</td>\n",
       "      <td>4.936480</td>\n",
       "      <td>3573.935350</td>\n",
       "      <td>...</td>\n",
       "      <td>4.355499</td>\n",
       "      <td>8.318612</td>\n",
       "      <td>3531.725098</td>\n",
       "      <td>2049.223458</td>\n",
       "      <td>1.411546</td>\n",
       "      <td>2.642449</td>\n",
       "      <td>1.518919</td>\n",
       "      <td>1.738234</td>\n",
       "      <td>1.457515</td>\n",
       "      <td>3.860666</td>\n",
       "    </tr>\n",
       "    <tr>\n",
       "      <th>3</th>\n",
       "      <td>1.0</td>\n",
       "      <td>3569.156909</td>\n",
       "      <td>2065.357831</td>\n",
       "      <td>0.940101</td>\n",
       "      <td>2.563546</td>\n",
       "      <td>0.836405</td>\n",
       "      <td>2.151778</td>\n",
       "      <td>2.650254</td>\n",
       "      <td>4.500677</td>\n",
       "      <td>3572.802320</td>\n",
       "      <td>...</td>\n",
       "      <td>3.683768</td>\n",
       "      <td>5.963362</td>\n",
       "      <td>3529.415919</td>\n",
       "      <td>2049.231604</td>\n",
       "      <td>1.221492</td>\n",
       "      <td>3.438005</td>\n",
       "      <td>1.272858</td>\n",
       "      <td>2.111202</td>\n",
       "      <td>1.679218</td>\n",
       "      <td>3.506380</td>\n",
       "    </tr>\n",
       "    <tr>\n",
       "      <th>4</th>\n",
       "      <td>1.0</td>\n",
       "      <td>3567.536119</td>\n",
       "      <td>2063.997440</td>\n",
       "      <td>0.961830</td>\n",
       "      <td>2.374021</td>\n",
       "      <td>1.046514</td>\n",
       "      <td>1.783034</td>\n",
       "      <td>2.432391</td>\n",
       "      <td>4.626892</td>\n",
       "      <td>3571.437750</td>\n",
       "      <td>...</td>\n",
       "      <td>3.498479</td>\n",
       "      <td>6.482901</td>\n",
       "      <td>3519.874261</td>\n",
       "      <td>2044.473685</td>\n",
       "      <td>1.797157</td>\n",
       "      <td>3.386036</td>\n",
       "      <td>0.770980</td>\n",
       "      <td>3.505291</td>\n",
       "      <td>1.477401</td>\n",
       "      <td>3.687515</td>\n",
       "    </tr>\n",
       "  </tbody>\n",
       "</table>\n",
       "<p>5 rows × 113 columns</p>\n",
       "</div>"
      ],
      "text/plain": [
       "   Class  AF3 delta std  AF3 delta m  AF3 theta std  AF3 theta m  \\\n",
       "0    1.0    3573.336166  2067.827798       1.334973     2.294574   \n",
       "1    1.0    3569.424197  2063.871329       1.639684     2.573080   \n",
       "2    1.0    3570.767652  2064.654687       0.706498     2.613442   \n",
       "3    1.0    3569.156909  2065.357831       0.940101     2.563546   \n",
       "4    1.0    3567.536119  2063.997440       0.961830     2.374021   \n",
       "\n",
       "   AF3 alpha std  AF3 alpha m  AF3 beta std  AF3 beta m  F7 delta std  ...  \\\n",
       "0       0.742210     2.052755      3.604952    4.854279   3575.508401  ...   \n",
       "1       1.097168     2.678287      2.313650    4.727548   3573.524571  ...   \n",
       "2       1.086770     2.222977      2.409857    4.936480   3573.935350  ...   \n",
       "3       0.836405     2.151778      2.650254    4.500677   3572.802320  ...   \n",
       "4       1.046514     1.783034      2.432391    4.626892   3571.437750  ...   \n",
       "\n",
       "   F8 beta std  F8 beta m  AF4 delta std  AF4 delta m  AF4 theta std  \\\n",
       "0     3.625333   8.860455    3522.728728  2045.497490       0.750616   \n",
       "1     3.918033   7.473774    3526.382257  2047.897934       0.799930   \n",
       "2     4.355499   8.318612    3531.725098  2049.223458       1.411546   \n",
       "3     3.683768   5.963362    3529.415919  2049.231604       1.221492   \n",
       "4     3.498479   6.482901    3519.874261  2044.473685       1.797157   \n",
       "\n",
       "   AF4 theta m  AF4 alpha std  AF4 alpha m  AF4 beta std  AF4 beta m  \n",
       "0     2.170167       1.372258     2.098884      2.418585    3.885361  \n",
       "1     2.408514       1.110604     2.154791      2.048773    4.238736  \n",
       "2     2.642449       1.518919     1.738234      1.457515    3.860666  \n",
       "3     3.438005       1.272858     2.111202      1.679218    3.506380  \n",
       "4     3.386036       0.770980     3.505291      1.477401    3.687515  \n",
       "\n",
       "[5 rows x 113 columns]"
      ]
     },
     "execution_count": 10,
     "metadata": {},
     "output_type": "execute_result"
    }
   ],
   "source": [
    "df3.head(5)"
   ]
  },
  {
   "cell_type": "markdown",
   "metadata": {},
   "source": [
    "### User D"
   ]
  },
  {
   "cell_type": "code",
   "execution_count": 11,
   "metadata": {
    "ExecuteTime": {
     "end_time": "2023-04-20T10:59:03.885288Z",
     "start_time": "2023-04-20T10:59:02.948099Z"
    }
   },
   "outputs": [
    {
     "name": "stdout",
     "output_type": "stream",
     "text": [
      "There are 2880 rows and 113 columns\n"
     ]
    }
   ],
   "source": [
    "df4 = pd.read_csv('./Dataset/user_d.csv', delimiter=',')\n",
    "df4.dataframeName = 'dataset.csv'\n",
    "nRow, nCol = df4.shape\n",
    "print(f'There are {nRow} rows and {nCol} columns')"
   ]
  },
  {
   "cell_type": "code",
   "execution_count": 12,
   "metadata": {
    "ExecuteTime": {
     "end_time": "2023-04-20T10:59:03.885288Z",
     "start_time": "2023-04-20T10:59:02.996099Z"
    }
   },
   "outputs": [
    {
     "data": {
      "text/html": [
       "<div>\n",
       "<style scoped>\n",
       "    .dataframe tbody tr th:only-of-type {\n",
       "        vertical-align: middle;\n",
       "    }\n",
       "\n",
       "    .dataframe tbody tr th {\n",
       "        vertical-align: top;\n",
       "    }\n",
       "\n",
       "    .dataframe thead th {\n",
       "        text-align: right;\n",
       "    }\n",
       "</style>\n",
       "<table border=\"1\" class=\"dataframe\">\n",
       "  <thead>\n",
       "    <tr style=\"text-align: right;\">\n",
       "      <th></th>\n",
       "      <th>Class</th>\n",
       "      <th>AF3 delta std</th>\n",
       "      <th>AF3 delta m</th>\n",
       "      <th>AF3 theta std</th>\n",
       "      <th>AF3 theta m</th>\n",
       "      <th>AF3 alpha std</th>\n",
       "      <th>AF3 alpha m</th>\n",
       "      <th>AF3 beta std</th>\n",
       "      <th>AF3 beta m</th>\n",
       "      <th>F7 delta std</th>\n",
       "      <th>...</th>\n",
       "      <th>F8 beta std</th>\n",
       "      <th>F8 beta m</th>\n",
       "      <th>AF4 delta std</th>\n",
       "      <th>AF4 delta m</th>\n",
       "      <th>AF4 theta std</th>\n",
       "      <th>AF4 theta m</th>\n",
       "      <th>AF4 alpha std</th>\n",
       "      <th>AF4 alpha m</th>\n",
       "      <th>AF4 beta std</th>\n",
       "      <th>AF4 beta m</th>\n",
       "    </tr>\n",
       "  </thead>\n",
       "  <tbody>\n",
       "    <tr>\n",
       "      <th>0</th>\n",
       "      <td>1.0</td>\n",
       "      <td>3566.375438</td>\n",
       "      <td>2062.665095</td>\n",
       "      <td>1.040973</td>\n",
       "      <td>2.574824</td>\n",
       "      <td>1.376404</td>\n",
       "      <td>1.657806</td>\n",
       "      <td>0.933377</td>\n",
       "      <td>2.429998</td>\n",
       "      <td>3564.653552</td>\n",
       "      <td>...</td>\n",
       "      <td>0.991871</td>\n",
       "      <td>1.800747</td>\n",
       "      <td>3564.807696</td>\n",
       "      <td>2061.398768</td>\n",
       "      <td>1.839022</td>\n",
       "      <td>2.917284</td>\n",
       "      <td>1.095649</td>\n",
       "      <td>1.342387</td>\n",
       "      <td>1.141837</td>\n",
       "      <td>1.820216</td>\n",
       "    </tr>\n",
       "    <tr>\n",
       "      <th>1</th>\n",
       "      <td>1.0</td>\n",
       "      <td>3565.986713</td>\n",
       "      <td>2061.826341</td>\n",
       "      <td>1.347088</td>\n",
       "      <td>2.154989</td>\n",
       "      <td>0.904145</td>\n",
       "      <td>2.603965</td>\n",
       "      <td>1.175508</td>\n",
       "      <td>2.292886</td>\n",
       "      <td>3564.071577</td>\n",
       "      <td>...</td>\n",
       "      <td>0.852802</td>\n",
       "      <td>1.620589</td>\n",
       "      <td>3565.004893</td>\n",
       "      <td>2061.989687</td>\n",
       "      <td>1.314281</td>\n",
       "      <td>2.876174</td>\n",
       "      <td>1.178849</td>\n",
       "      <td>1.939520</td>\n",
       "      <td>0.903631</td>\n",
       "      <td>2.145510</td>\n",
       "    </tr>\n",
       "    <tr>\n",
       "      <th>2</th>\n",
       "      <td>1.0</td>\n",
       "      <td>3566.977885</td>\n",
       "      <td>2062.639807</td>\n",
       "      <td>1.083747</td>\n",
       "      <td>2.186981</td>\n",
       "      <td>1.155864</td>\n",
       "      <td>2.293261</td>\n",
       "      <td>1.144330</td>\n",
       "      <td>2.107225</td>\n",
       "      <td>3564.207493</td>\n",
       "      <td>...</td>\n",
       "      <td>1.075723</td>\n",
       "      <td>1.422287</td>\n",
       "      <td>3567.117563</td>\n",
       "      <td>2061.465328</td>\n",
       "      <td>1.628649</td>\n",
       "      <td>2.286765</td>\n",
       "      <td>1.591144</td>\n",
       "      <td>1.949241</td>\n",
       "      <td>1.006042</td>\n",
       "      <td>2.228659</td>\n",
       "    </tr>\n",
       "    <tr>\n",
       "      <th>3</th>\n",
       "      <td>1.0</td>\n",
       "      <td>3566.342634</td>\n",
       "      <td>2063.069909</td>\n",
       "      <td>1.208843</td>\n",
       "      <td>2.160716</td>\n",
       "      <td>1.143995</td>\n",
       "      <td>2.283394</td>\n",
       "      <td>1.008707</td>\n",
       "      <td>2.047132</td>\n",
       "      <td>3564.536023</td>\n",
       "      <td>...</td>\n",
       "      <td>0.696173</td>\n",
       "      <td>1.416980</td>\n",
       "      <td>3565.482402</td>\n",
       "      <td>2060.885464</td>\n",
       "      <td>1.049679</td>\n",
       "      <td>2.486281</td>\n",
       "      <td>0.684482</td>\n",
       "      <td>2.173874</td>\n",
       "      <td>0.937085</td>\n",
       "      <td>2.165614</td>\n",
       "    </tr>\n",
       "    <tr>\n",
       "      <th>4</th>\n",
       "      <td>1.0</td>\n",
       "      <td>3567.798629</td>\n",
       "      <td>2062.549327</td>\n",
       "      <td>1.378424</td>\n",
       "      <td>3.255706</td>\n",
       "      <td>0.795261</td>\n",
       "      <td>1.726990</td>\n",
       "      <td>0.914162</td>\n",
       "      <td>1.746653</td>\n",
       "      <td>3565.157175</td>\n",
       "      <td>...</td>\n",
       "      <td>0.743514</td>\n",
       "      <td>1.384104</td>\n",
       "      <td>3566.585859</td>\n",
       "      <td>2061.257282</td>\n",
       "      <td>1.500156</td>\n",
       "      <td>3.115490</td>\n",
       "      <td>1.235855</td>\n",
       "      <td>2.453826</td>\n",
       "      <td>0.840093</td>\n",
       "      <td>2.126146</td>\n",
       "    </tr>\n",
       "  </tbody>\n",
       "</table>\n",
       "<p>5 rows × 113 columns</p>\n",
       "</div>"
      ],
      "text/plain": [
       "   Class  AF3 delta std  AF3 delta m  AF3 theta std  AF3 theta m  \\\n",
       "0    1.0    3566.375438  2062.665095       1.040973     2.574824   \n",
       "1    1.0    3565.986713  2061.826341       1.347088     2.154989   \n",
       "2    1.0    3566.977885  2062.639807       1.083747     2.186981   \n",
       "3    1.0    3566.342634  2063.069909       1.208843     2.160716   \n",
       "4    1.0    3567.798629  2062.549327       1.378424     3.255706   \n",
       "\n",
       "   AF3 alpha std  AF3 alpha m  AF3 beta std  AF3 beta m  F7 delta std  ...  \\\n",
       "0       1.376404     1.657806      0.933377    2.429998   3564.653552  ...   \n",
       "1       0.904145     2.603965      1.175508    2.292886   3564.071577  ...   \n",
       "2       1.155864     2.293261      1.144330    2.107225   3564.207493  ...   \n",
       "3       1.143995     2.283394      1.008707    2.047132   3564.536023  ...   \n",
       "4       0.795261     1.726990      0.914162    1.746653   3565.157175  ...   \n",
       "\n",
       "   F8 beta std  F8 beta m  AF4 delta std  AF4 delta m  AF4 theta std  \\\n",
       "0     0.991871   1.800747    3564.807696  2061.398768       1.839022   \n",
       "1     0.852802   1.620589    3565.004893  2061.989687       1.314281   \n",
       "2     1.075723   1.422287    3567.117563  2061.465328       1.628649   \n",
       "3     0.696173   1.416980    3565.482402  2060.885464       1.049679   \n",
       "4     0.743514   1.384104    3566.585859  2061.257282       1.500156   \n",
       "\n",
       "   AF4 theta m  AF4 alpha std  AF4 alpha m  AF4 beta std  AF4 beta m  \n",
       "0     2.917284       1.095649     1.342387      1.141837    1.820216  \n",
       "1     2.876174       1.178849     1.939520      0.903631    2.145510  \n",
       "2     2.286765       1.591144     1.949241      1.006042    2.228659  \n",
       "3     2.486281       0.684482     2.173874      0.937085    2.165614  \n",
       "4     3.115490       1.235855     2.453826      0.840093    2.126146  \n",
       "\n",
       "[5 rows x 113 columns]"
      ]
     },
     "execution_count": 12,
     "metadata": {},
     "output_type": "execute_result"
    }
   ],
   "source": [
    "df4.head(5)"
   ]
  },
  {
   "cell_type": "markdown",
   "metadata": {},
   "source": [
    "================================================================="
   ]
  },
  {
   "cell_type": "code",
   "execution_count": 198,
   "metadata": {
    "ExecuteTime": {
     "end_time": "2023-04-20T13:08:23.830077Z",
     "start_time": "2023-04-20T13:08:23.809071Z"
    }
   },
   "outputs": [],
   "source": [
    "from sklearn.model_selection import train_test_split\n",
    "from sklearn.preprocessing import StandardScaler, PolynomialFeatures\n",
    "from sklearn import linear_model\n",
    "from sklearn.metrics import confusion_matrix, accuracy_score\n",
    "\n",
    "\n",
    "\n",
    "def basic_logistic_regression(df):\n",
    "    x = df.iloc[:, 1:].values\n",
    "\n",
    "    # output\n",
    "    y = df.iloc[:, 0].values\n",
    "\n",
    "    scale = StandardScaler()\n",
    "\n",
    "    x = scale.fit_transform(x)\n",
    "\n",
    "    xtrain, xtest, ytrain, ytest = train_test_split(\n",
    "        x, y, test_size=0.20, random_state=0)\n",
    "\n",
    "    log_reg = linear_model.LogisticRegression(max_iter=3000)\n",
    "    log_model = log_reg.fit(xtrain, ytrain)\n",
    "\n",
    "    y_pred = log_model.predict(xtest)\n",
    "\n",
    "    cm = confusion_matrix(ytest, y_pred)\n",
    "    print (f\"Confusion Matrix of {df.name}: \\n\", cm)\n",
    "    print (\"Accuracy : \", accuracy_score(ytest, y_pred))\n"
   ]
  },
  {
   "cell_type": "code",
   "execution_count": 199,
   "metadata": {
    "ExecuteTime": {
     "end_time": "2023-04-20T13:08:26.445187Z",
     "start_time": "2023-04-20T13:08:25.897058Z"
    }
   },
   "outputs": [
    {
     "name": "stdout",
     "output_type": "stream",
     "text": [
      "Confusion Matrix of user_a: \n",
      " [[115  24  39]\n",
      " [ 39 126  45]\n",
      " [ 35  35 118]]\n",
      "Accuracy :  0.6232638888888888\n",
      "Confusion Matrix of user_b: \n",
      " [[105  37  36]\n",
      " [ 24 133  31]\n",
      " [ 42  30 138]]\n",
      "Accuracy :  0.6527777777777778\n",
      "Confusion Matrix of user_c: \n",
      " [[ 96  43  39]\n",
      " [ 41 110  59]\n",
      " [ 62  48  78]]\n",
      "Accuracy :  0.4930555555555556\n",
      "Confusion Matrix of user_d: \n",
      " [[110  33  35]\n",
      " [ 61 100  49]\n",
      " [ 33  46 109]]\n",
      "Accuracy :  0.5538194444444444\n"
     ]
    }
   ],
   "source": [
    "df1.name = \"user_a\"\n",
    "basic_logistic_regression(df1)\n",
    "df2.name = \"user_b\"\n",
    "basic_logistic_regression(df2)\n",
    "df3.name = \"user_c\"\n",
    "basic_logistic_regression(df3)\n",
    "df4.name = \"user_d\"\n",
    "basic_logistic_regression(df4)\n"
   ]
  },
  {
   "cell_type": "code",
   "execution_count": 200,
   "metadata": {
    "ExecuteTime": {
     "end_time": "2023-04-20T13:08:29.760311Z",
     "start_time": "2023-04-20T13:08:29.738306Z"
    }
   },
   "outputs": [],
   "source": [
    "def poly_logistic_regression(df, degree):\n",
    "    x = df.iloc[:, 1:].values\n",
    "    # output\n",
    "    y = df.iloc[:, 0].values\n",
    "\n",
    "    scale = StandardScaler()\n",
    "    x = scale.fit_transform(x)\n",
    "\n",
    "    poly = PolynomialFeatures(degree=degree)\n",
    "    x = poly.fit_transform(x)\n",
    "\n",
    "    xtrain, xtest, ytrain, ytest = train_test_split(\n",
    "        x, y, test_size=0.20, random_state=0)\n",
    "\n",
    "\n",
    "    log_reg = linear_model.LogisticRegression(max_iter=3000)\n",
    "    log_model = log_reg.fit(xtrain, ytrain)\n",
    "\n",
    "    y_pred = log_model.predict(xtest)\n",
    "\n",
    "    cm = confusion_matrix(ytest, y_pred)\n",
    "    print (f\"Confusion Matrix of {df.name}: \\n\", cm)\n",
    "    print (\"Accuracy : \", accuracy_score(ytest, y_pred))"
   ]
  },
  {
   "cell_type": "code",
   "execution_count": 201,
   "metadata": {
    "ExecuteTime": {
     "end_time": "2023-04-20T13:08:52.393378Z",
     "start_time": "2023-04-20T13:08:32.379286Z"
    }
   },
   "outputs": [
    {
     "name": "stdout",
     "output_type": "stream",
     "text": [
      "Confusion Matrix of user_a: \n",
      " [[156  11  11]\n",
      " [ 17 178  15]\n",
      " [ 16  18 154]]\n",
      "Accuracy :  0.8472222222222222\n",
      "Confusion Matrix of user_b: \n",
      " [[158  12   8]\n",
      " [  6 173   9]\n",
      " [ 13  17 180]]\n",
      "Accuracy :  0.8871527777777778\n",
      "Confusion Matrix of user_c: \n",
      " [[124  20  34]\n",
      " [ 32 147  31]\n",
      " [ 35  23 130]]\n",
      "Accuracy :  0.6961805555555556\n",
      "Confusion Matrix of user_d: \n",
      " [[158   9  11]\n",
      " [ 23 174  13]\n",
      " [  5  15 168]]\n",
      "Accuracy :  0.8680555555555556\n"
     ]
    }
   ],
   "source": [
    "df1.name = \"user_a\"\n",
    "poly_logistic_regression(df1, 2)\n",
    "df2.name = \"user_b\"\n",
    "poly_logistic_regression(df2, 2)\n",
    "df3.name = \"user_c\"\n",
    "poly_logistic_regression(df3, 2)\n",
    "df4.name = \"user_d\"\n",
    "poly_logistic_regression(df4, 2)"
   ]
  },
  {
   "cell_type": "markdown",
   "metadata": {},
   "source": [
    "## The first thing we will do is import all the libraries\n",
    "\n",
    "We will be using the lower resolution MINST data set"
   ]
  },
  {
   "cell_type": "code",
   "execution_count": 86,
   "metadata": {},
   "outputs": [],
   "source": [
    "from sklearn.preprocessing import StandardScaler  # It is important in neural networks to scale the date\n",
    "from sklearn.model_selection import train_test_split  # The standard - train/test to prevent overfitting and choose hyperparameters\n",
    "from sklearn.metrics import confusion_matrix, accuracy_score # \n",
    "import numpy as np\n",
    "import numpy.random as r # We will randomly initialize our weights\n",
    "import matplotlib.pyplot as plt "
   ]
  },
  {
   "cell_type": "code",
   "execution_count": 109,
   "metadata": {},
   "outputs": [
    {
     "name": "stdout",
     "output_type": "stream",
     "text": [
      "The shape of User A's dataset:\n",
      "(2880, 112)\n"
     ]
    }
   ],
   "source": [
    "X1 = df1.values[:, 1:]\n",
    "y = df1.values[:, 0].astype(int)\n",
    "print(\"The shape of User A's dataset:\")\n",
    "print(X1.shape)"
   ]
  },
  {
   "cell_type": "code",
   "execution_count": 110,
   "metadata": {},
   "outputs": [
    {
     "data": {
      "text/plain": [
       "array([1, 1, 1, ..., 0, 0, 0])"
      ]
     },
     "execution_count": 110,
     "metadata": {},
     "output_type": "execute_result"
    }
   ],
   "source": [
    "y"
   ]
  },
  {
   "cell_type": "code",
   "execution_count": 88,
   "metadata": {},
   "outputs": [
    {
     "data": {
      "text/plain": [
       "array([[3.56916455e+03, 2.06389275e+03, 1.67372591e+00, ...,\n",
       "        4.20464673e+01, 4.62808430e+01, 7.35657188e+01],\n",
       "       [3.56842367e+03, 2.06309925e+03, 1.89778986e+00, ...,\n",
       "        2.94310541e+01, 3.85593511e+01, 6.74700406e+01],\n",
       "       [3.56815793e+03, 2.06244586e+03, 2.79801408e+00, ...,\n",
       "        1.95550844e+01, 4.32100044e+01, 6.77819236e+01],\n",
       "       ...,\n",
       "       [3.57432620e+03, 2.06603101e+03, 1.41673100e+00, ...,\n",
       "        6.35511678e+00, 3.22380625e+01, 1.90238973e+01],\n",
       "       [3.57373579e+03, 2.06594533e+03, 1.11994251e+00, ...,\n",
       "        1.46636808e+01, 2.41095095e+01, 2.64682539e+01],\n",
       "       [3.57398293e+03, 2.06596040e+03, 1.01106177e+00, ...,\n",
       "        1.29981192e+01, 2.36350519e+01, 2.65811163e+01]])"
      ]
     },
     "execution_count": 88,
     "metadata": {},
     "output_type": "execute_result"
    }
   ],
   "source": [
    "df1.values[:,1:]"
   ]
  },
  {
   "cell_type": "markdown",
   "metadata": {},
   "source": [
    "## Looking at the data\n",
    "\n",
    "I want to plot the data here, but I have to understand what it's with respect to first..."
   ]
  },
  {
   "cell_type": "code",
   "execution_count": 65,
   "metadata": {},
   "outputs": [
    {
     "data": {
      "image/png": "[encoded data removed]",
      "text/plain": [
       "<Figure size 640x480 with 1 Axes>"
      ]
     },
     "metadata": {},
     "output_type": "display_data"
    }
   ],
   "source": [
    "plt.plot(np.arange(X1_ones.shape[0]), X1_ones[:, 5])\n",
    "plt.show()"
   ]
  },
  {
   "cell_type": "code",
   "execution_count": 73,
   "metadata": {},
   "outputs": [
    {
     "data": {
      "text/plain": [
       "(2880,)"
      ]
     },
     "execution_count": 73,
     "metadata": {},
     "output_type": "execute_result"
    }
   ],
   "source": [
    "X1[:, 1].shape"
   ]
  },
  {
   "cell_type": "code",
   "execution_count": 64,
   "metadata": {},
   "outputs": [
    {
     "data": {
      "text/plain": [
       "array([[1.00000000e+00, 3.56916455e+03, 2.06389275e+03, ...,\n",
       "        4.20464673e+01, 4.62808430e+01, 7.35657188e+01],\n",
       "       [1.00000000e+00, 3.56842367e+03, 2.06309925e+03, ...,\n",
       "        2.94310541e+01, 3.85593511e+01, 6.74700406e+01],\n",
       "       [1.00000000e+00, 3.56815793e+03, 2.06244586e+03, ...,\n",
       "        1.95550844e+01, 4.32100044e+01, 6.77819236e+01],\n",
       "       ...,\n",
       "       [1.00000000e+00, 3.57376044e+03, 2.06570083e+03, ...,\n",
       "        7.05090034e+00, 2.45520780e+01, 2.86607924e+01],\n",
       "       [1.00000000e+00, 3.57381919e+03, 2.06553354e+03, ...,\n",
       "        6.51138572e+00, 2.86781997e+01, 2.44480769e+01],\n",
       "       [1.00000000e+00, 3.57250845e+03, 2.06468870e+03, ...,\n",
       "        5.78274069e+00, 2.32364055e+01, 2.92277297e+01]])"
      ]
     },
     "execution_count": 64,
     "metadata": {},
     "output_type": "execute_result"
    }
   ],
   "source": [
    "X1_ones = X1[X1[:,0] == 1]\n",
    "X1_ones"
   ]
  },
  {
   "cell_type": "code",
   "execution_count": 59,
   "metadata": {},
   "outputs": [
    {
     "data": {
      "text/plain": [
       "960"
      ]
     },
     "execution_count": 59,
     "metadata": {},
     "output_type": "execute_result"
    }
   ],
   "source": [
    "np.count_nonzero(X1[:,0] == 1)"
   ]
  },
  {
   "cell_type": "code",
   "execution_count": 78,
   "metadata": {},
   "outputs": [
    {
     "data": {
      "text/plain": [
       "array([1., 1., 1., 1., 1., 1., 1., 1., 1., 1., 1., 1., 1., 1., 1., 1., 1.,\n",
       "       1., 1., 1., 1., 1., 1., 1., 1., 1., 1., 1., 1., 1., 1., 1., 1., 1.,\n",
       "       1., 1., 1., 1., 1., 1., 1., 1., 1., 1., 1., 1., 1., 1., 1., 1., 1.,\n",
       "       1., 1., 1., 1., 1., 1., 1., 1., 1., 1., 1., 1., 1., 1., 1., 1., 1.,\n",
       "       1., 1., 1., 1., 1., 1., 1., 1., 1., 1., 1., 1., 1., 1., 1., 1., 1.,\n",
       "       1., 1., 1., 1., 1., 1., 1., 1., 1., 1., 1., 1., 1., 1., 1., 1., 1.,\n",
       "       1., 1., 1., 1., 1., 1., 1., 1., 1., 1., 1., 1., 1., 1., 1., 1., 1.,\n",
       "       1., 1., 1., 1., 1., 1., 1., 1., 1., 1., 1., 1., 1., 1., 1., 1., 1.,\n",
       "       1., 1., 1., 1., 1., 1., 1., 1., 1., 1., 1., 1., 1., 1., 1., 1., 1.,\n",
       "       1., 1., 1., 1., 1., 1., 1.])"
      ]
     },
     "execution_count": 78,
     "metadata": {},
     "output_type": "execute_result"
    }
   ],
   "source": [
    "X1[:160,0]"
   ]
  },
  {
   "cell_type": "code",
   "execution_count": 81,
   "metadata": {},
   "outputs": [
    {
     "data": {
      "text/plain": [
       "array([2., 2., 2., 2., 2., 2., 2., 2., 2., 2., 2., 2., 2., 2., 2., 2., 2.,\n",
       "       2., 2., 2., 2., 2., 2., 2., 2., 2., 2., 2., 2., 2., 2., 2., 2., 2.,\n",
       "       2., 2., 2., 2., 2., 2., 2., 2., 2., 2., 2., 2., 2., 2., 2., 2., 2.,\n",
       "       2., 2., 2., 2., 2., 2., 2., 2., 2., 2., 2., 2., 2., 2., 2., 2., 2.,\n",
       "       2., 2., 2., 2., 2., 2., 2., 2., 2., 2., 2., 2., 2., 2., 2., 2., 2.,\n",
       "       2., 2., 2., 2., 2., 2., 2., 2., 2., 2., 2., 2., 2., 2., 2., 2., 2.,\n",
       "       2., 2., 2., 2., 2., 2., 2., 2., 2., 2., 2., 2., 2., 2., 2., 2., 2.,\n",
       "       2., 2., 2., 2., 2., 2., 2., 2., 2., 2., 2., 2., 2., 2., 2., 2., 2.,\n",
       "       2., 2., 2., 2., 2., 2., 2., 2., 2., 2., 2., 2., 2., 2., 2., 2., 2.,\n",
       "       2., 2., 2., 2., 2., 2., 2.])"
      ]
     },
     "execution_count": 81,
     "metadata": {},
     "output_type": "execute_result"
    }
   ],
   "source": [
    "X1[160:320,0]"
   ]
  },
  {
   "cell_type": "markdown",
   "metadata": {},
   "source": [
    "so the data's a list of means and standard deviations\n",
    "\n",
    "What's the significance of using 80 at a time?"
   ]
  },
  {
   "cell_type": "markdown",
   "metadata": {},
   "source": [
    "## 1) Scale the dataset\n",
    "To help the algorithm converge, we will scale the data to have a mean of 0 and unit variance"
   ]
  },
  {
   "cell_type": "code",
   "execution_count": 116,
   "metadata": {},
   "outputs": [
    {
     "data": {
      "text/plain": [
       "array([3.56916455e+03, 2.06389275e+03, 1.67372591e+00, 4.44473629e+00,\n",
       "       5.26208637e-01, 3.00208841e+00, 1.42502221e+00, 3.30273892e+00,\n",
       "       3.56380389e+03, 2.06023906e+03, 1.40408869e+00, 2.27939763e+00,\n",
       "       1.29740081e+00, 1.96007944e+00, 7.59956329e-01, 2.03897657e+00,\n",
       "       3.70900971e+03, 2.18064768e+03, 1.94911414e+01, 3.98474194e+01,\n",
       "       2.04933480e+01, 4.12287965e+01, 4.60073721e+01, 7.34932326e+01,\n",
       "       3.56736526e+03, 2.06248310e+03, 1.20999634e+00, 1.77181103e+00,\n",
       "       1.61793259e-01, 1.81849036e+00, 6.88671728e-01, 1.64176662e+00,\n",
       "       3.55921928e+03, 2.05736336e+03, 1.02755096e+00, 2.50238878e+00,\n",
       "       1.49515650e+00, 2.20770090e+00, 1.02911412e+00, 2.22654871e+00,\n",
       "       3.67792121e+03, 2.15974792e+03, 1.65641843e+01, 3.77539425e+01,\n",
       "       1.47939915e+01, 3.90191340e+01, 4.51982464e+01, 7.29429149e+01,\n",
       "       3.57498534e+03, 2.06628552e+03, 1.02409198e+00, 2.98039626e+00,\n",
       "       9.61611908e-01, 2.65226771e+00, 3.59595673e+00, 5.87665812e+00,\n",
       "       3.64118553e+03, 2.14759186e+03, 2.49497415e+01, 4.94750729e+01,\n",
       "       2.06259575e+01, 4.74366466e+01, 4.68135047e+01, 7.65672838e+01,\n",
       "       3.57926854e+03, 2.07712347e+03, 3.60767237e+00, 9.93836892e+00,\n",
       "       4.34327504e+00, 1.25285660e+01, 1.71945166e+01, 2.76902417e+01,\n",
       "       3.63678086e+03, 2.13866349e+03, 1.93106698e+01, 3.62008357e+01,\n",
       "       1.58813266e+01, 3.87748526e+01, 4.36019950e+01, 6.97783627e+01,\n",
       "       3.69424588e+03, 2.17477702e+03, 1.84265242e+01, 4.04883929e+01,\n",
       "       1.64105050e+01, 3.88503355e+01, 4.53292632e+01, 7.29077998e+01,\n",
       "       3.57752143e+03, 2.06799696e+03, 1.23297310e+00, 3.07365924e+00,\n",
       "       9.19418995e-01, 2.63412433e+00, 3.34869774e+00, 5.38065242e+00,\n",
       "       3.66533676e+03, 2.15767505e+03, 1.55431115e+01, 3.73741994e+01,\n",
       "       1.59073120e+01, 4.08547953e+01, 4.54683255e+01, 7.25087498e+01,\n",
       "       3.70118633e+03, 2.18267684e+03, 1.81924181e+01, 4.13496621e+01,\n",
       "       1.60047556e+01, 4.20464673e+01, 4.62808430e+01, 7.35657188e+01])"
      ]
     },
     "execution_count": 116,
     "metadata": {},
     "output_type": "execute_result"
    }
   ],
   "source": [
    "\n",
    "X1_scale = StandardScaler()\n",
    "X1_ = X1_scale.fit_transform(X1)\n",
    "X1[0,:]"
   ]
  },
  {
   "cell_type": "code",
   "execution_count": 104,
   "metadata": {},
   "outputs": [
    {
     "data": {
      "text/plain": [
       "(2880,)"
      ]
     },
     "execution_count": 104,
     "metadata": {},
     "output_type": "execute_result"
    }
   ],
   "source": [
    "y.shape"
   ]
  },
  {
   "cell_type": "markdown",
   "metadata": {},
   "source": [
    "## 2) Creating training and test datasets\n",
    "We split the data into training and test data sets. We will train the neural network with the training dataset, and evaluate our neural network with the test dataset "
   ]
  },
  {
   "cell_type": "code",
   "execution_count": 117,
   "metadata": {},
   "outputs": [],
   "source": [
    "#Split the data into training and test set.  60% training and %40 test\n",
    "X_train, X_test, y_train, y_test = train_test_split(X1_, y, test_size=0.4)"
   ]
  },
  {
   "cell_type": "markdown",
   "metadata": {},
   "source": [
    "## 3) Setting up the output layer"
   ]
  },
  {
   "cell_type": "markdown",
   "metadata": {},
   "source": [
    "### One-vs-all encoding\n",
    "Our target is an integer in the range [0,..,9], so we will have 10 output neuron's in our network.  \n",
    "\n",
    "-  If  $y=0$, we want the output neurons to have the values $(1,0,0,0,0,0,0,0,0,0)$\n",
    "\n",
    "-  If  $y=1$ we want the output neurons to have the values $(0,1,0,0,0,0,0,0,0,0)$\n",
    "-  etc\n",
    "\n",
    "Thus we need to change our target so it is the same as our hoped for output of the neural network.  \n",
    "-  If $y=0$ we change it into the vector $(1,0,0,0,0,0,0,0,0,0)$. \n",
    "-  If $y=1$ we change it into the vector $(0,1,0,0,0,0,0,0,0,0)$\n",
    "-  etc\n",
    "\n",
    "See page 29 from the website listed above\n",
    "\n",
    "The code to covert the target vector."
   ]
  },
  {
   "cell_type": "code",
   "execution_count": 118,
   "metadata": {},
   "outputs": [],
   "source": [
    "def convert_y_to_vect(y):\n",
    "    y_vect = np.zeros((len(y), 3))\n",
    "    for i in range(len(y)):\n",
    "        y_vect[i, \n",
    "               y[i]] = 1\n",
    "    return y_vect"
   ]
  },
  {
   "cell_type": "markdown",
   "metadata": {},
   "source": [
    "Converting the training and test targets to vectors "
   ]
  },
  {
   "cell_type": "code",
   "execution_count": 119,
   "metadata": {},
   "outputs": [],
   "source": [
    "# convert digits to vectors\n",
    "y_v_train = convert_y_to_vect(y_train)\n",
    "y_v_test = convert_y_to_vect(y_test)"
   ]
  },
  {
   "cell_type": "markdown",
   "metadata": {},
   "source": [
    "A quick check to see that our code performs as we expect "
   ]
  },
  {
   "cell_type": "code",
   "execution_count": 120,
   "metadata": {},
   "outputs": [
    {
     "name": "stdout",
     "output_type": "stream",
     "text": [
      "[2 1 0 1]\n",
      "[[0. 0. 1.]\n",
      " [0. 1. 0.]\n",
      " [1. 0. 0.]\n",
      " [0. 1. 0.]]\n"
     ]
    }
   ],
   "source": [
    "print(y_train[0:4])\n",
    "print(y_v_train[0:4])"
   ]
  },
  {
   "cell_type": "markdown",
   "metadata": {},
   "source": [
    "## 4) Creating the neural network"
   ]
  },
  {
   "cell_type": "markdown",
   "metadata": {},
   "source": [
    "### The activation function and its derivative\n",
    "\n",
    "We will use the sigmoid activation function:  $f(z)=\\frac{1}{1+e^{-z}}$\n",
    "\n",
    "The deriviative of the sigmoid function is: $f'(z) = f(z)(1-f(z))$ "
   ]
  },
  {
   "cell_type": "code",
   "execution_count": 121,
   "metadata": {},
   "outputs": [],
   "source": [
    "def f(z):\n",
    "    return 1 / (1 + np.exp(-z))\n",
    "\n",
    "\n",
    "def f_deriv(z):\n",
    "    return f(z) * (1 - f(z))"
   ]
  },
  {
   "cell_type": "markdown",
   "metadata": {},
   "source": [
    "### Creating and initialing W and b\n",
    "We want the weights in W to be different so that during back propagation the nodes on a level will have different gradients and thus have different update values.\n",
    "\n",
    "We want the  weights to be small values, since the sigmoid is almost \"flat\" for large inputs.\n",
    "\n",
    "Next is the code that assigns each weight a number uniformly drawn from $[0.0, 1.0)$.  The code assumes that the number of neurons in each level is in the python list *nn_structure*.\n",
    "\n",
    "In the code, the weights, $W^{(\\ell)}$ and $b^{(\\ell)}$ are held in a python dictionary"
   ]
  },
  {
   "cell_type": "code",
   "execution_count": 122,
   "metadata": {},
   "outputs": [],
   "source": [
    "def setup_and_init_weights(nn_structure):\n",
    "    W = {} #creating a dictionary i.e. a set of key: value pairs\n",
    "    b = {}\n",
    "    for l in range(1, len(nn_structure)):\n",
    "        W[l] = r.random_sample((nn_structure[l], nn_structure[l-1])) #Return “continuous uniform” random floats in the half-open interval [0.0, 1.0). \n",
    "        b[l] = r.random_sample((nn_structure[l],))\n",
    "    return W, b"
   ]
  },
  {
   "cell_type": "markdown",
   "metadata": {},
   "source": [
    "### Initializing $\\triangledown W$ and $\\triangledown b$\n",
    "Creating $\\triangledown W^{(\\ell)}$ and $\\triangledown b^{(\\ell)}$ to have the same size as $W^{(\\ell)}$ and $b^{(\\ell)}$, and setting $\\triangledown W^{(\\ell)}$, and  $\\triangledown b^{(\\ell)}$ to zero"
   ]
  },
  {
   "cell_type": "code",
   "execution_count": 123,
   "metadata": {},
   "outputs": [],
   "source": [
    "def init_tri_values(nn_structure):\n",
    "    tri_W = {}\n",
    "    tri_b = {}\n",
    "    for l in range(1, len(nn_structure)):\n",
    "        tri_W[l] = np.zeros((nn_structure[l], nn_structure[l-1]))\n",
    "        tri_b[l] = np.zeros((nn_structure[l],))\n",
    "    return tri_W, tri_b"
   ]
  },
  {
   "cell_type": "markdown",
   "metadata": {},
   "source": [
    "## Feed forward\n",
    "Perform a forward pass throught the network.  The function returns the values of $a$ and $z$"
   ]
  },
  {
   "cell_type": "code",
   "execution_count": 124,
   "metadata": {},
   "outputs": [],
   "source": [
    "def feed_forward(x, W, b):\n",
    "    a = {1: x} # create a dictionary for holding the a values for all levels\n",
    "    z = { } # create a dictionary for holding the z values for all the layers\n",
    "    for l in range(1, len(W) + 1): # for each layer\n",
    "        node_in = a[l]\n",
    "        z[l+1] = W[l].dot(node_in) + b[l]  # z^(l+1) = W^(l)*a^(l) + b^(l)\n",
    "        a[l+1] = f(z[l+1]) # a^(l+1) = f(z^(l+1))\n",
    "    return a, z"
   ]
  },
  {
   "cell_type": "markdown",
   "metadata": {},
   "source": [
    "## Compute $\\delta$\n",
    "The code below compute $\\delta^{(s_l)}$ in a function called \"calculate_out_layer_delta\",  and  computes $\\delta^{(\\ell)}$ for the hidden layers in the function called \"calculate_hidden_delta\".  \n",
    "\n",
    "If we wanted to have a different cost function, we would change the \"calculate_out_layer_delta\" function.\n"
   ]
  },
  {
   "cell_type": "code",
   "execution_count": 125,
   "metadata": {},
   "outputs": [],
   "source": [
    "def calculate_out_layer_delta(y, a_out, z_out):\n",
    "    # delta^(nl) = -(y_i - a_i^(nl)) * f'(z_i^(nl))\n",
    "    return -(y-a_out) * f_deriv(z_out) \n",
    "\n",
    "\n",
    "def calculate_hidden_delta(delta_plus_1, w_l, z_l):\n",
    "    # delta^(l) = (transpose(W^(l)) * delta^(l+1)) * f'(z^(l))\n",
    "    return np.dot(np.transpose(w_l), delta_plus_1) * f_deriv(z_l)"
   ]
  },
  {
   "cell_type": "markdown",
   "metadata": {},
   "source": [
    "## The Back Propagation Algorithm\n"
   ]
  },
  {
   "cell_type": "code",
   "execution_count": 126,
   "metadata": {},
   "outputs": [],
   "source": [
    "def train_nn(nn_structure, X, y, iter_num=3000, alpha=0.25):\n",
    "    W, b = setup_and_init_weights(nn_structure)\n",
    "    cnt = 0\n",
    "    N = len(y)\n",
    "    avg_cost_func = []\n",
    "    print('Starting gradient descent for {} iterations'.format(iter_num))\n",
    "    while cnt < iter_num:\n",
    "        if cnt%1000 == 0:\n",
    "            print('Iteration {} of {}'.format(cnt, iter_num))\n",
    "        tri_W, tri_b = init_tri_values(nn_structure)\n",
    "        avg_cost = 0\n",
    "        for i in range(N):\n",
    "            delta = {}\n",
    "            # perform the feed forward pass and return the stored a and z values, to be used in the\n",
    "            # gradient descent step\n",
    "            a, z = feed_forward(X[i, :], W, b)\n",
    "            # loop from nl-1 to 1 backpropagating the errors\n",
    "            for l in range(len(nn_structure), 0, -1):\n",
    "                if l == len(nn_structure):\n",
    "                    delta[l] = calculate_out_layer_delta(y[i,:], a[l], z[l])\n",
    "                    avg_cost += np.linalg.norm((y[i,:]-a[l]))\n",
    "                else:\n",
    "                    if l > 1:\n",
    "                        delta[l] = calculate_hidden_delta(delta[l+1], W[l], z[l])\n",
    "                    # triW^(l) = triW^(l) + delta^(l+1) * transpose(a^(l))\n",
    "                    tri_W[l] += np.dot(delta[l+1][:,np.newaxis], np.transpose(a[l][:,np.newaxis]))# np.newaxis increase the number of dimensions\n",
    "                    # trib^(l) = trib^(l) + delta^(l+1)\n",
    "                    tri_b[l] += delta[l+1]\n",
    "        # perform the gradient descent step for the weights in each layer\n",
    "        for l in range(len(nn_structure) - 1, 0, -1):\n",
    "            W[l] += -alpha * (1.0/N * tri_W[l])\n",
    "            b[l] += -alpha * (1.0/N * tri_b[l])\n",
    "        # complete the average cost calculation\n",
    "        avg_cost = 1.0/N * avg_cost\n",
    "        avg_cost_func.append(avg_cost)\n",
    "        cnt += 1\n",
    "    return W, b, avg_cost_func\n",
    "\n",
    "\n",
    "def predict_y(W, b, X, n_layers):\n",
    "    N = X.shape[0]\n",
    "    y = np.zeros((N,))\n",
    "    for i in range(N):\n",
    "        a, z = feed_forward(X[i, :], W, b)\n",
    "        y[i] = np.argmax(a[n_layers])\n",
    "    return y"
   ]
  },
  {
   "cell_type": "markdown",
   "metadata": {},
   "source": [
    "## Running the neural network\n",
    "\n",
    "Our code assumes the size of each layer in our network is held in a list.  The input layer will have 64 neurons (one for each pixel in our 8 by 8 pixelated digit).  Our hidden layer has 30 neurons (you can change this value).  The output layer has 10 neurons.\n",
    "\n",
    "Next we create the python list to hold the number of neurons for each level and then run the neural network code with our training data.\n",
    "\n",
    "This code will take some time..."
   ]
  },
  {
   "cell_type": "code",
   "execution_count": 133,
   "metadata": {},
   "outputs": [
    {
     "name": "stdout",
     "output_type": "stream",
     "text": [
      "Starting gradient descent for 200 iterations\n",
      "Iteration 0 of 200\n"
     ]
    }
   ],
   "source": [
    "nn_structure = [112, 66, 3]\n",
    "    \n",
    "# train the NN\n",
    "W, b, avg_cost_func = train_nn(nn_structure, X_train, y_v_train, 200)"
   ]
  },
  {
   "cell_type": "markdown",
   "metadata": {},
   "source": [
    "### Plotting the learning curve\n"
   ]
  },
  {
   "cell_type": "code",
   "execution_count": 134,
   "metadata": {},
   "outputs": [
    {
     "data": {
      "image/png": "[encoded data removed]",
      "text/plain": [
       "<Figure size 640x480 with 1 Axes>"
      ]
     },
     "metadata": {},
     "output_type": "display_data"
    }
   ],
   "source": [
    "# plot the avg_cost_func\n",
    "plt.plot(avg_cost_func)\n",
    "plt.ylabel('Average J')\n",
    "plt.xlabel('Iteration number')\n",
    "plt.show()"
   ]
  },
  {
   "cell_type": "markdown",
   "metadata": {},
   "source": [
    "## 5) Assessing accuracy\n",
    "Next we determine what percentage the neural network correctly predicted the handwritten digit correctly on the test set"
   ]
  },
  {
   "cell_type": "code",
   "execution_count": 135,
   "metadata": {},
   "outputs": [
    {
     "name": "stdout",
     "output_type": "stream",
     "text": [
      "Prediction accuracy is 39.49652777777778%\n"
     ]
    }
   ],
   "source": [
    "# get the prediction accuracy and print\n",
    "y_pred = predict_y(W, b, X_test, 3)\n",
    "print('Prediction accuracy is {}%'.format(accuracy_score(y_test, y_pred) * 100))"
   ]
  },
  {
   "cell_type": "code",
   "execution_count": 136,
   "metadata": {},
   "outputs": [
    {
     "name": "stdout",
     "output_type": "stream",
     "text": [
      "Confusion Matrix: \n",
      " [[192 139   8]\n",
      " [138 258  13]\n",
      " [222 177   5]]\n"
     ]
    }
   ],
   "source": [
    "cm = confusion_matrix(y_test, y_pred)\n",
    "print (f\"Confusion Matrix: \\n\", cm)\n"
   ]
  },
  {
   "cell_type": "markdown",
   "metadata": {},
   "source": [
    "Okay, so that took really long and was not that great. I think some more preprocessing needs to happen so that we aren't entering in 128 features.\n",
    "\n",
    "- update: going from 30 in hidden layer to 66 drastically improved performance, from ~26% to ~39.5%\n",
    "- and the neurons were all guessing 0 before, but now they're more consistently guessing other values. Although, 2 is not accounted for well.\n",
    "\n",
    "\n",
    "...also, it looks like the neurons are almost always guessing 0?"
   ]
  },
  {
   "cell_type": "code",
   "execution_count": 137,
   "metadata": {},
   "outputs": [],
   "source": [
    "# TODO automate nn process\n",
    "def nn(df):\n",
    "    pass"
   ]
  },
  {
   "cell_type": "code",
   "execution_count": null,
   "metadata": {},
   "outputs": [],
   "source": [
    "df1.name = \"user_a\"\n",
    "nn(df1)\n",
    "df2.name = \"user_b\"\n",
    "nn(df2)\n",
    "df3.name = \"user_c\"\n",
    "nn(df3)\n",
    "df4.name = \"user_d\"\n",
    "nn(df4)"
   ]
  }
 ],
 "metadata": {
  "kernelspec": {
   "display_name": "Python 3 (ipykernel)",
   "language": "python",
   "name": "python3"
  },
  "language_info": {
   "codemirror_mode": {
    "name": "ipython",
    "version": 3
   },
   "file_extension": ".py",
   "mimetype": "text/x-python",
   "name": "python",
   "nbconvert_exporter": "python",
   "pygments_lexer": "ipython3",
   "version": "3.9.13"
  }
 },
 "nbformat": 4,
 "nbformat_minor": 1
}
